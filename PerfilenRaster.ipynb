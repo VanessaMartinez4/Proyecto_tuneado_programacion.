{
  "nbformat": 4,
  "nbformat_minor": 0,
  "metadata": {
    "colab": {
      "provenance": [],
      "authorship_tag": "ABX9TyOGoOORasKEaYxKYM1cIJ+p",
      "include_colab_link": true
    },
    "kernelspec": {
      "name": "python3",
      "display_name": "Python 3"
    },
    "language_info": {
      "name": "python"
    }
  },
  "cells": [
    {
      "cell_type": "markdown",
      "metadata": {
        "id": "view-in-github",
        "colab_type": "text"
      },
      "source": [
        "<a href=\"https://colab.research.google.com/github/VanessaMartinez4/Proyecto_tuneado_programacion./blob/main/PerfilenRaster.ipynb\" target=\"_parent\"><img src=\"https://colab.research.google.com/assets/colab-badge.svg\" alt=\"Open In Colab\"/></a>"
      ]
    },
    {
      "cell_type": "code",
      "execution_count": null,
      "metadata": {
        "id": "RDqUxCGLd1pM"
      },
      "outputs": [],
      "source": [
        "from PyQt5.QtCore import *\n",
        "from PyQt5.QtGui import *\n",
        "from qgis.core import *\n",
        "from qgis.gui import *\n",
        "from osgeo import gdal, osr\n",
        "from PyQt5.QtCore import QVariant\n",
        "\n",
        "#Vector\n",
        "perfil = 'C:\\\\PyQgis\\\\Perfile.shp'\n",
        "perfil = QgsVectorLayer(perfil,'Perfile','ogr')\n",
        "\n",
        "#Raster\n",
        "colima ='C:\\\\PyQgis\\\\e13b34e4.bil'\n",
        "fileInfo = QFileInfo(colima)\n",
        "baseName = fileInfo.baseName()\n",
        "raster = QgsRasterLayer(colima, baseName)\n",
        "if not raster.isValid():\n",
        "    print(\"La capa no se pudo cargar\")\n",
        "\n",
        "QgsProject.instance().addMapLayer(raster)\n",
        "QgsProject.instance().addMapLayer(perfil)\n",
        "\n",
        "layer = iface.activeLayer()\n",
        "features = layer.selectedFeatures()\n",
        "\n",
        "for f in features:\n",
        "     geom = f.geometry()\n",
        "     print(\"Longitud:\" ,geom.length())\n",
        "    \n",
        "for field in perfil.fields():\n",
        "    print(field.name(), field.typeName())"
      ]
    }
  ]
}